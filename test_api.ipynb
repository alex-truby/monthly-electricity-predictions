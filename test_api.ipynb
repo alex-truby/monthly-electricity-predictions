{
 "cells": [
  {
   "cell_type": "code",
   "execution_count": 4,
   "metadata": {},
   "outputs": [],
   "source": [
    "# %pip install requests"
   ]
  },
  {
   "cell_type": "code",
   "execution_count": 5,
   "metadata": {},
   "outputs": [],
   "source": [
    "import requests"
   ]
  },
  {
   "cell_type": "markdown",
   "metadata": {},
   "source": [
    "Run this notebook while the docker container and API end point are running locally to test the model deployment. \n"
   ]
  },
  {
   "cell_type": "code",
   "execution_count": 6,
   "metadata": {},
   "outputs": [],
   "source": [
    "url = \"http://localhost:8000/consumption\"\n"
   ]
  },
  {
   "cell_type": "code",
   "execution_count": 7,
   "metadata": {},
   "outputs": [],
   "source": [
    "params = {\n",
    "    \"Average_Temperature\": 80.0,\n",
    "    \"Heating_setpoint\": \"60F\",\n",
    "    \"Cooling_setpoint\": \"72F\",\n",
    "    \"Vintage\": \"1970s\",\n",
    "    \"Floor_Area_SqFt\": \"5000\",\n",
    "    \"Occupants\": \"3\",\n",
    "    \"ASHRAE_IECC_Climate_Zone_2004\": \"5B\",\n",
    "    \"Windows\": \"Single, Clear, Non-metal', 'Double, Clear, Metal, Air\",\n",
    "    \"Insulation_Wall\": \"Wood Stud, R-11\",\n",
    "    \"Insulation_Roof\": \"Finished, R-19\",\n",
    "    \"Insulation_Floor\": \"None\",\n",
    "    \"HVAC_Heating_Fuel\": \"Natural Gas\",\n",
    "    \"Roof_Material\": \"Composition Shingles\",\n",
    "    \"Water_Heater_Efficiency\": \"Natural Gas Standard\"\n",
    "}"
   ]
  },
  {
   "cell_type": "code",
   "execution_count": 8,
   "metadata": {},
   "outputs": [],
   "source": [
    "response = requests.get(url, params=params)\n"
   ]
  },
  {
   "cell_type": "code",
   "execution_count": 9,
   "metadata": {},
   "outputs": [
    {
     "data": {
      "text/plain": [
       "{'predicted_consumption_kwh': 51.88787643771045}"
      ]
     },
     "execution_count": 9,
     "metadata": {},
     "output_type": "execute_result"
    }
   ],
   "source": [
    "response.json()"
   ]
  },
  {
   "cell_type": "markdown",
   "metadata": {},
   "source": [
    "# Future improvements for the API\n",
    "* Authorization (as needed)\n",
    "* Additional routes (as needed)\n",
    "* Potentially use bridges to configure default values/data types if not all information is provided (for example, if a user doesn't know the type of insullation they have, we may be able to 'model' that using knowledge of year built, house type, location, etc.)"
   ]
  },
  {
   "cell_type": "code",
   "execution_count": null,
   "metadata": {},
   "outputs": [],
   "source": []
  }
 ],
 "metadata": {
  "kernelspec": {
   "display_name": ".venv",
   "language": "python",
   "name": "python3"
  },
  "language_info": {
   "codemirror_mode": {
    "name": "ipython",
    "version": 3
   },
   "file_extension": ".py",
   "mimetype": "text/x-python",
   "name": "python",
   "nbconvert_exporter": "python",
   "pygments_lexer": "ipython3",
   "version": "3.11.9"
  }
 },
 "nbformat": 4,
 "nbformat_minor": 2
}
